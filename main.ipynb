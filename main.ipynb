{
 "cells": [
  {
   "cell_type": "markdown",
   "id": "666a1b3a",
   "metadata": {},
   "source": [
    "**Nelder-Mead Method for Sinal Recovery**\n",
    "<br>\n",
    "*by: Cauã Gomes de Freitas and Nícolas Fagundes Ouverney*"
   ]
  },
  {
   "cell_type": "markdown",
   "id": "734d802c",
   "metadata": {},
   "source": [
    "# Initial Requirements"
   ]
  },
  {
   "cell_type": "code",
   "execution_count": null,
   "id": "5be7f42a",
   "metadata": {},
   "outputs": [],
   "source": [
    "# LIBRARIES\n",
    "import pandas as pd\n",
    "import numpy as np\n",
    "import matplotlib.pyplot as plt"
   ]
  },
  {
   "cell_type": "code",
   "execution_count": null,
   "id": "a48ed1c7",
   "metadata": {},
   "outputs": [],
   "source": [
    "# DATABASE FILE PATH\n",
    "file_path = r'db_pileup_noise.csv'\n",
    "\n",
    "# DATABASE READING\n",
    "db = pd.read_csv(file_path).values"
   ]
  },
  {
   "cell_type": "markdown",
   "id": "cd26a989",
   "metadata": {},
   "source": [
    "# Definition of Functions"
   ]
  },
  {
   "cell_type": "code",
   "execution_count": null,
   "id": "7fc127b5",
   "metadata": {},
   "outputs": [],
   "source": [
    "# OBJECTIVE FUNCTION - ROOT MEAN-SQUARE ERROR\n",
    "def objective_function(A):\n",
    "    reconstruction_pattern = np.array([A[0]*1.0 + A[1]*0.4524 + A[2]*0.0172 + 0 + 0 + 0 + 0,\n",
    "                      A[0]*0.5633 + A[1]*1 + A[2]*0.4524 + A[3]*0.0172 + 0 + 0 + 0,\n",
    "                      A[0]*0.1493 + A[1]*0.5633 + A[2]*1 + A[3]*0.4524 + A[4]*0.0172 + 0 + 0,\n",
    "                      A[0]*0.0424 + A[1]*0.1493 + A[2]*0.5633 + A[3]*1 + A[4]*0.4524 + A[5]*0.0172 + 0,\n",
    "                      0 + A[1]*0.0424 + A[2]*0.1493 + A[3]*0.5633 + A[4]*1 + A[5]*0.4524 + A[6]*0.0172,\n",
    "                      0 + 0 + A[2]*0.0424 + A[3]*0.1493 + A[4]*0.5633 + A[5]*1 + A[6]*0.4524,\n",
    "                      0 + 0 + 0 + A[3]*0.0424 + A[4]*0.1493 + A[5]*0.5633 + A[6]*1], dtype = np.longdouble)\n",
    "    aux_sum = data_signal - reconstruction_pattern\n",
    "    return (sum(aux_sum ** 2) / len(data_signal)) ** 0.5"
   ]
  },
  {
   "cell_type": "code",
   "execution_count": null,
   "id": "f162f6f3",
   "metadata": {},
   "outputs": [],
   "source": [
    "# NELDER-MEAD METHOD IMPLEMENTATION\n",
    "def Nelder_Mead_Simplex(f, initial_points, max_iter, tol1, tol2):\n",
    "    n = len(initial_points) # number of dimensions of the function f\n",
    "    # Adaptive Nelder-Mead Simplex\n",
    "    alpha = 1 # reflection coefficient\n",
    "    gamma = 1 + 2/n # expansion coefficient\n",
    "    rho = 0.75 - 1/(2*n) # contraction coefficient\n",
    "    sigma = 1 - 1/n # shrink coefficient\n",
    "\n",
    "    # defines points for a initial simplex\n",
    "    simplex = [initial_points]    \n",
    "    for i in range(0, n):\n",
    "        aux_init_simplex = initial_points[:]\n",
    "        for j in range(0, n):\n",
    "            if i == j:\n",
    "                aux_init_simplex[i] += 0.05\n",
    "        simplex.append(np.array(aux_init_simplex))\n",
    "    \n",
    "    # preparation for the loop\n",
    "    k = 0\n",
    "    while k < max_iter or max_iter == -1:\n",
    "        simplex.sort(key = lambda x: f(x))\n",
    "        best_value = f(simplex[0])\n",
    "        worst_value = f(simplex[-1])\n",
    "\n",
    "        # check the objetive function value and the interval\n",
    "        if abs(best_value) < tol1 and abs(f(simplex[0]) - f(simplex[-1])) < tol2:\n",
    "            break\n",
    "        \n",
    "        k += 1\n",
    "        centroid = np.mean(simplex[:-1], dtype = np.longdouble, axis = 0) # axis = 0 for efetuate the mean along the column\n",
    "        \n",
    "        # calculates reflection point\n",
    "        reflected_point = centroid + alpha * (centroid - simplex[-1])\n",
    "        reflected_value = f(reflected_point)\n",
    "\n",
    "        # reflection\n",
    "        if reflected_value >= best_value and reflected_value < f(simplex[-2]):\n",
    "            simplex[-1] = reflected_point[:]\n",
    "        \n",
    "        # expansion\n",
    "        elif reflected_value < best_value:\n",
    "            expansion_point = centroid + gamma * (reflected_point - centroid)\n",
    "            expansion_value = f(expansion_point)\n",
    "\n",
    "            if expansion_value < reflected_value:\n",
    "                simplex[-1] = expansion_point[:]\n",
    "            else:\n",
    "                simplex[-1] = reflected_point[:]\n",
    "        \n",
    "        # contraction\n",
    "        else:\n",
    "            if reflected_value < worst_value:\n",
    "                contracted_point = centroid + rho * (reflected_point - centroid)\n",
    "\n",
    "                if f(contracted_point) < reflected_value:\n",
    "                    simplex[-1] = contracted_point[:]\n",
    "                # shrink\n",
    "                else:\n",
    "                    for j in range(1, n + 1):\n",
    "                        simplex[j] = simplex[0] + sigma * (simplex[j] - simplex[0])\n",
    "            else:\n",
    "                contracted_point = centroid + rho * (simplex[-1] - centroid)\n",
    "                if f(contracted_point) < worst_value:\n",
    "                    simplex[-1] = contracted_point[:]\n",
    "                # shrink\n",
    "                else:\n",
    "                    for j in range(1, n + 1):\n",
    "                        simplex[j] = simplex[0] + sigma * (simplex[j] - simplex[0])\n",
    "    \n",
    "    simplex.sort(key = lambda x: f(x))\n",
    "\n",
    "    return simplex[0], k"
   ]
  },
  {
   "cell_type": "markdown",
   "id": "616a5998",
   "metadata": {},
   "source": [
    "# Inputs and Execution of the Method"
   ]
  },
  {
   "cell_type": "code",
   "execution_count": null,
   "id": "37dde663",
   "metadata": {},
   "outputs": [],
   "source": [
    "# INPUTS\n",
    "# stopping criteria\n",
    "max_iterations = 10000 # put -1 to ignore\n",
    "tolerance_1 = 1e-12 # this tolerance is calculated by the absolute value of the objective function \n",
    "tolerance_2 = 1e-12 # this tolerance is calculated by the differecence between the best and worst function value calculated at the point\n",
    "\n",
    "# initial simplex\n",
    "initial_guess = [1000, 1000, 1000, 1000, 1000, 1000, 1000]"
   ]
  },
  {
   "cell_type": "code",
   "execution_count": null,
   "id": "a3c88918",
   "metadata": {},
   "outputs": [],
   "source": [
    "# FUNCTION CALLING\n",
    "mean_residuals = []\n",
    "all_residuals = []\n",
    "points = []\n",
    "points_amplitude = []\n",
    "average_iterations = 0\n",
    "for i in range(0, len(db), 8):\n",
    "    # reading the stacking row from database\n",
    "    data_signal = db[i + 7, 2 :]\n",
    "\n",
    "    # calling Nelder-Mead Simplex\n",
    "    best_point, num_iter = Nelder_Mead_Simplex(objective_function, initial_guess, max_iterations, tolerance)\n",
    "\n",
    "    # saving datas for the results\n",
    "    points.append(best_point)\n",
    "    average_iterations += num_iter\n",
    "    if len(points) % 100 == 0:\n",
    "        print('Progress: {}/{}'.format(len(points), len(db)//8))\n",
    "\n",
    "    # calculating the average error of the amplitudes\n",
    "    amplitudes = list(map(np.longdouble, db[i : i + 7, 1]))\n",
    "    points_amplitude.append(amplitudes)\n",
    "    all_residuals.append(amplitudes - best_point)\n",
    "    mean_residuals.append(np.mean(amplitudes - best_point, dtype = np.longdouble))\n",
    "average_iterations = average_iterations / len(points)"
   ]
  },
  {
   "cell_type": "markdown",
   "id": "bed69743",
   "metadata": {},
   "source": [
    "# Results"
   ]
  },
  {
   "cell_type": "code",
   "execution_count": null,
   "id": "1eabcd65",
   "metadata": {},
   "outputs": [],
   "source": [
    "# SHOWING THE RESULTS\n",
    "print('Mean Residuals:')\n",
    "print(mean_residuals)\n",
    "print('Average of Iterations:')\n",
    "print(average_iterations)\n",
    "fig, ax = plt.subplots(nrows = 3, ncols = 3, figsize = (9, 9), tight_layout = True)\n",
    "count = 0\n",
    "for i in range(0, 3):\n",
    "    for j in range(0, 3):\n",
    "        if i == 0 and j == 0:\n",
    "            ax[i, j].hist(mean_residuals, bins = 200)\n",
    "            ax[i, j].set_title('MEAN RESIDUALS')\n",
    "            ax[i, j].set_xlabel('Residual')\n",
    "            ax[i, j].set_ylabel('Volume')\n",
    "        elif i == 0 and j == 1:\n",
    "            aux_residuals = []\n",
    "            for k in range(0, len(all_residuals)):\n",
    "                for l in range(0, len(all_residuals[0])):\n",
    "                    aux_residuals.append(all_residuals[k][l])\n",
    "            ax[i, j].hist(aux_residuals, bins = 200)\n",
    "            ax[i, j].set_title('ALL RESIDUALS')\n",
    "            ax[i, j].set_xlabel('Residual')\n",
    "            ax[i, j].set_ylabel('Volume')\n",
    "        else:\n",
    "            by_time = aux_residuals[count::7]\n",
    "            count += 1\n",
    "            ax[i, j].hist(by_time, bins = 200)\n",
    "            ax[i, j].set_title(f'RESIDUALS TIME {count}')\n",
    "            ax[i, j].set_xlabel('Residual')\n",
    "            ax[i, j].set_ylabel('Volume')\n",
    "            \n",
    "plt.show()"
   ]
  },
  {
   "cell_type": "code",
   "execution_count": null,
   "id": "1426ea8e",
   "metadata": {},
   "outputs": [],
   "source": [
    "# REAL AND CALCULATED AMPLITUDES\n",
    "print('CALCULATED AMPLITUDES')\n",
    "for i in range(0, len(points)):\n",
    "    print('Before pile_up_{}:'.format(i + 1))\n",
    "    print(list(points[i]))\n",
    "    print(list(points_amplitude[i]),'\\n')"
   ]
  }
 ],
 "metadata": {
  "language_info": {
   "name": "python"
  }
 },
 "nbformat": 4,
 "nbformat_minor": 5
}
